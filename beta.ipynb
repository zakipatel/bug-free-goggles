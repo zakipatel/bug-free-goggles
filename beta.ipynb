{
 "cells": [
  {
   "cell_type": "markdown",
   "id": "92e5fd23-413e-4fa1-8958-baf5da22c814",
   "metadata": {},
   "source": [
    "## 1. Set Up"
   ]
  },
  {
   "cell_type": "code",
   "execution_count": 24,
   "id": "58f9a392-51fc-45dd-8b19-445877c4c49a",
   "metadata": {
    "collapsed": true,
    "jupyter": {
     "outputs_hidden": true,
     "source_hidden": true
    }
   },
   "outputs": [],
   "source": [
    "def get_flight_data(file_path): \n",
    "    print(\"Processing ... \" + file_path)\n",
    "    xtree = et.parse(file_path)\n",
    "    xroot = xtree.getroot()\n",
    "    \n",
    "    #M633 Supplementary Header\n",
    "    header_s_633 = xroot[1]\n",
    "    flight_origin_date = header_s_633[0].get('flightOriginDate')\n",
    "    flight_number = header_s_633[0][0][1][0].text \n",
    "    dep_airport_name = header_s_633[0][1].get('airportName')\n",
    "    arr_airport_name = header_s_633[0][2].get('airportName')\n",
    "    \n",
    "    aircraft_reg = header_s_633[1].get('aircraftRegistration')\n",
    "    aircraft_subtype = header_s_633[1][0].get('airlineSpecificSubType')\n",
    "    aircraft_model = header_s_633[1][0][0].text \n",
    "    \n",
    "    #M633 FlightInfo\n",
    "    flight_info = xroot[2]\n",
    "    aircraft_reg = header_s_633[1].get('aircraftRegistration')\n",
    "    call_sign = flight_info.get('aTCCallsign')\n",
    "    \n",
    "   # print(\"Aircraft Reg: \", aircraft_reg) \n",
    "   # print(\"Flight No: \", flight_number, \" ATC Call Sign: \", call_sign, \"Flight Origin Date: \" , flight_origin_date)\n",
    "   # print(\"Departure:\", dep_airport_name, \" --> Arrival:\", arr_airport_name)\n",
    "   # print(\"Aircraft Reg: \" , aircraft_reg, \"Aircraft Model: \" , aircraft_model, \" Aircraft SubType: \" , aircraft_subtype) \n",
    "        \n",
    "    #M633 FlightPlan Header\n",
    "    flight_plan_header = xroot[4]\n",
    "    performance_factor = flight_plan_header[1].text  \n",
    "    fuel_flow_avg = flight_plan_header[2][0][0].text          # kg / hr\n",
    "    fuel_flow_holding = flight_plan_header[2][1][0].text\n",
    "    fms_route_name = flight_plan_header[3].get('fMSRouteName') #.text\n",
    "    route_name = flight_plan_header[3].get('routeName')\n",
    "    wind_direction_avg = flight_plan_header[3][0][0][0].text\n",
    "    wind_speed_avg = flight_plan_header[3][0][1][0].text\n",
    "    ground_distance = flight_plan_header[3][9][0].text\n",
    "    air_distance = flight_plan_header[3][10][0].text\n",
    "    greatcircle_distance = flight_plan_header[3][11][0].text\n",
    "    \n",
    "    #print(\"Route Name:\" , fms_route_name, \"(\", route_name ,\")\" )\n",
    "    #print(\"Wind Direction Avg (Deg):\", wind_direction_avg, \"Wind Direction Speed (Kt):\", wind_speed_avg)\n",
    "    #print(\"Distance (NM) - Ground: \", ground_distance, \" Air: \", air_distance, \" Great Circule: \", greatcircle_distance) \n",
    "    \n",
    "    #M633 Weight Header\n",
    "    weight_header = xroot[6]\n",
    "    takeoff_weight = int(weight_header[3][0][0].text) #/2.205\n",
    "    landing_weight = int(weight_header[4][0][0].text) #/2.205\n",
    "    burn = int(takeoff_weight) - int(landing_weight)\n",
    "    \n",
    "    #print(\"Weight - Take Off (Kgs):\", int(takeoff_weight), \"Weight - Landing (Kgs):\", int(landing_weight))\n",
    "    #print(\"Fuel Burn (Kgs)\", burn, \"Performance Factor:\" , performance_factor)\n",
    "    #print(\"Fuel Flow Avg (Lb/h):\" , fuel_flow_avg, \"Fuel Flow Holding (Lb/h):\" , fuel_flow_holding)\n",
    "    \n",
    "    # Waypoints\n",
    "    waypoints = xroot[7]\n",
    "    df_cols = [\"sequence_no\", \"waypoint_name\", \n",
    "               \"latitude\", \"longitude\", \n",
    "               \"altitude\", \"elapsed_time\", \n",
    "               #\"mach_number\", \n",
    "               \"true_airspeed\", \n",
    "               #\"indicated_airspeed\", \n",
    "               \"engine_efficiency\", \"time\", \"burn_off\", \"c\"]\n",
    "    rows = []\n",
    "    \n",
    "    for wp in waypoints:\n",
    "    #for wp in xroot.iter('Waypoint'): \n",
    "        sequence_no = int(wp.get('sequenceId'))\n",
    "        waypoint_name = wp.get('waypointName')\n",
    "        lat = float(wp[0].get('latitude'))/3600\n",
    "        long = float(wp[0].get('longitude'))/3600\n",
    "        altitude, burn_off, fuel_flow, mach_number, true_airspeed, indicated_airspeed = 0.0,0.0, 0.0, 0.0, 0.0, 0.0\n",
    "        seconds = 0\n",
    "        timestamp = '2023-05-23T04:36:00' # datetime.today()\n",
    "        date_format = '%Y-%m-%dT%H:%M:%S'\n",
    "        altitude = None\n",
    "    \n",
    "        for child in wp:\n",
    "            if child.tag == '{http://aeec.aviation-ia.net/633}Altitude':\n",
    "                altitude = (float(child[0][0].text)*100)/3.218  if child[0][0] is not None else 0\n",
    "            if child.tag == '{http://aeec.aviation-ia.net/633}BurnOff':\n",
    "                # burn off is in kg \n",
    "                burn_off = float(child[0][0].text) # /2.205\n",
    "            if child.tag == '{http://aeec.aviation-ia.net/633}TimeOverWaypoint':\n",
    "                time = child[0][0].text\n",
    "                timestamp = datetime.strptime(time, date_format) # - timedelta(days=23)\n",
    "                #cleaned_df['time'] = cleaned_df['time'] - timedelta(days=13)\n",
    "            if child.tag == '{http://aeec.aviation-ia.net/633}TimeFromPreviousWaypoint':\n",
    "                split = child[0][0].text.split(\"H\")\n",
    "                minutes = split[1] \n",
    "                seconds = float(minutes.split(\"M\")[0])*60\n",
    "                #else:\n",
    "                #    fuel_flow = 0\n",
    "                #time = time - timedelta(days=13)\n",
    "            if child.tag == '{http://aeec.aviation-ia.net/633}MachNumber':\n",
    "                mach_number = float(child[0][0].text) # if mach_no_node is not None else 0\n",
    "            if child.tag == '{http://aeec.aviation-ia.net/633}TrueAirSpeed':\n",
    "                true_airspeed = float(child[0][0].text)*0.514 # if mach_no_node is not None else 0\n",
    "                # source data - KT\n",
    "                # converted to True airspeed (m s-1)\": \"true_airspeed\",\n",
    "            if child.tag == '{http://aeec.aviation-ia.net/633}IndicatedAirSpeed':\n",
    "                indicated_airspeed = float(child[0][0].text)*0.514 # if mach_no_node is not None else 0\n",
    "                \n",
    "        rows.append({\"sequence_no\": sequence_no,\n",
    "                 \"waypoint_name\": waypoint_name,\n",
    "                 \"latitude\": lat,\n",
    "                 \"longitude\": long, \n",
    "                 \"altitude\": altitude,\n",
    "                 \"elapsed_time\": seconds, \n",
    "                 \"time\": timestamp, \n",
    "                 \"burn_off\": burn_off,\n",
    "              #   \"mach_number\": mach_number,\n",
    "                  \"true_airspeed\": true_airspeed, \n",
    "              #   \"indicated_airspeed\": indicated_airspeed,\n",
    "                 \"engine_efficiency\": 0.0\n",
    "                })\n",
    "    \n",
    "    # Set Takeoff Weight \n",
    "    rows[0]['c'] = takeoff_weight\n",
    "    rows[0]['altitude'] = 0\n",
    "    rows[len(rows)-1]['altitude']=0\n",
    "    \n",
    "    out_df = pd.DataFrame(rows, columns = df_cols)\n",
    "    new_col = 'c'\n",
    "    \n",
    "    def apply_func_decorator(func):\n",
    "        prev_row = {}\n",
    "        def wrapper(curr_row, **kwargs):\n",
    "            val = func(curr_row, prev_row)\n",
    "           # print(val)\n",
    "           # print(prev_row)\n",
    "            prev_row.update(curr_row)\n",
    "           # print(prev_row)\n",
    "            prev_row[new_col] = val\n",
    "           # print(prev_row)\n",
    "           # print(val)\n",
    "            return val\n",
    "        return wrapper\n",
    "    \n",
    "    @apply_func_decorator\n",
    "    def aircraft_mass(curr_row, prev_row):\n",
    "        #print(curr_row)\n",
    "        #print(prev_row)\n",
    "        return prev_row.get(\"c\", takeoff_weight) - curr_row[\"burn_off\"]\n",
    "    \n",
    "    #+ curr_row['b'] + prev_row.get('c', 0)\n",
    "    out_df[\"aircraft_mass\"] = out_df.apply(aircraft_mass, axis=1)\n",
    "    \n",
    "    # fuel flow \n",
    "    #\"Fuel mass flow rate (kg s-1)\": \"fuel_flow\",\n",
    "    #Kilogram Per Second (kg/s) is a unit in the category of Mass flow rate. \n",
    "    #It is also known as kilogram/second, kilograms per second. \n",
    "    #This unit is commonly used in the SI unit system. Kilogram Per Second (kg/s) has a dimension of MT-1 where M is mass, and T is time.\n",
    "    \n",
    "    def fuel_flow(df):\n",
    "        if df[\"burn_off\"] > 0 and df[\"elapsed_time\"] > 0:\n",
    "            return df[\"burn_off\"] / df[\"elapsed_time\"]\n",
    "        else:\n",
    "            return 0\n",
    "    \n",
    "    out_df[\"fuel_flow\"] = out_df.apply(fuel_flow, axis=1)\n",
    "    \n",
    "    # Engine Efficiency\n",
    "    \n",
    "    F=0.22  # Thrust \n",
    "    Q=43.24  #  mJ/kg.\n",
    "    \n",
    "    def engine_efficiency(df):\n",
    "        V = int(df[\"indicated_airspeed\"])*0.514\n",
    "        # The knot (/nɒt/) is a unit of speed equal to one nautical mile per hour,\n",
    "        # exactly 1.852 km/h (approximately 1.151 mph or 0.514 m/s).\n",
    "        # 0.51444\n",
    "        fuel_flow = df[\"fuel_flow\"]  # kg / s\n",
    "        if V > 0 and fuel_flow > 0:\n",
    "            efficiency = (F*V)/(Q*fuel_flow)\n",
    "            return efficiency\n",
    "        else:\n",
    "            return 0\n",
    "    \n",
    "    if engine_efficiency_input < 0: \n",
    "        out_df[\"engine_efficiency\"] = out_df.apply(engine_efficiency, axis=1)\n",
    "    else:\n",
    "        out_df[\"engine_efficiency\"] = engine_efficiency_input\n",
    "    \n",
    "    #out_df.info()\n",
    "    out_df = out_df.drop('c', axis=1)\n",
    "    cleaned_df = out_df.drop_duplicates(subset='time', keep=\"first\")\n",
    "    #cleaned_df.describe()\n",
    "    # max_altitude = ?\n",
    "    # max_speed = ? \n",
    "\n",
    "    # demo synthetic flight\n",
    "    flight_attrs = {\n",
    "        \"flight_id\": call_sign,\n",
    "        # set constants along flight path\n",
    "        #\"true_airspeed\": true_airspeed_input, \n",
    "        \"thrust\": thrust_setting_input, \n",
    "        \"nvpm_ei_n\": non_volatile_emissions_index_input\n",
    "    }\n",
    "\n",
    "    wingspan_input = 37.57  \n",
    "    if aircraft_model in wingspan_dict:\n",
    "        wingspan_input =  wingspan_dict[aircraft_model]\n",
    "        #print(wingspan_input, aircraft_model)\n",
    "        \n",
    "    aircraft = Aircraft(aircraft_type=aircraft_model, wingspan=wingspan_input, n_engine=n_engine_input)\n",
    "    input_df = cleaned_df.interpolate(method='linear', limit_direction='forward', axis=0)\n",
    "    input_df = input_df.fillna(0)\n",
    "    \n",
    "    #if (interpolate):\n",
    "    #    print(\"interpolating\")\n",
    "    #    input_df = cleaned_df.interpolate(method='linear', limit_direction='forward', axis=0)\n",
    "    #    input_df = input_df.fillna(0)\n",
    "    #else: \n",
    "    #    input_df = cleaned_df\n",
    "    #print(input_df)\n",
    "    \n",
    "    flight = Flight(input_df, aircraft=aircraft, attrs=flight_attrs)\n",
    "    return flight, call_sign, flight_number, flight_origin_date, dep_airport_name, arr_airport_name, greatcircle_distance, fms_route_name, burn, aircraft_model, performance_factor, aircraft_subtype\n",
    "\n",
    "\n",
    "def get_met_data(timebound):\n",
    "    era5pl = ERA5(\n",
    "        time=timebound,\n",
    "        variables=Cocip.met_variables + Cocip.optional_met_variables,\n",
    "        pressure_levels=pressure_levels,\n",
    "    )\n",
    "    era5sl = ERA5(time=timebound, variables=Cocip.rad_variables)\n",
    "        \n",
    "    met = era5pl.open_metdataset()\n",
    "    rad = era5sl.open_metdataset()\n",
    "    return met, rad\n",
    "\n",
    "def compute_cocip(flight, met, rad):\n",
    "    params = {\n",
    "        \"process_emissions\": False,\n",
    "        \"verbose_outputs\": True,\n",
    "        #\"dt_integration\": np.timedelta64(10, \"m\"),\n",
    "        \"humidity_scaling\": ConstantHumidityScaling(rhi_adj=0.98), \n",
    "    }\n",
    "    cocip = Cocip(met=met, rad=rad, params=params)\n",
    "    fl_out = cocip.eval(source=flight)\n",
    "    flight_statistics = cocip.output_flight_statistics()\n",
    "    return fl_out, flight_statistics\n"
   ]
  },
  {
   "cell_type": "markdown",
   "id": "3edadf87-9a10-4874-a8a0-461b5e9dfe6c",
   "metadata": {
    "jp-MarkdownHeadingCollapsed": true
   },
   "source": [
    "## 2. Input"
   ]
  },
  {
   "cell_type": "code",
   "execution_count": 17,
   "id": "bce18f4b-c9d3-47c6-b493-bb71dce87a0b",
   "metadata": {
    "collapsed": true,
    "jupyter": {
     "outputs_hidden": true,
     "source_hidden": true
    }
   },
   "outputs": [],
   "source": [
    "#default values\n",
    "engine_efficiency_input = 0.45\n",
    "non_volatile_emissions_index_input =  1500000000000000 #1.897462e15 # nvpm_ei_n\n",
    "n_engine_input = 2\n",
    "thrust_setting_input = 0.22 # \n",
    "pressure_levels = [200,300,250,400,500,600]\n",
    "interpolate = True\n",
    "wingspan_dict = {\n",
    "  \"A320\": 37.57,\n",
    "  \"B737\": 36.0,\n",
    "  \"A350\": 65,\n",
    "  \"A380\": 80\n",
    "}"
   ]
  },
  {
   "cell_type": "markdown",
   "id": "2d41d8ab-fba1-4928-b273-2d9fd211d9ee",
   "metadata": {},
   "source": [
    "## 3. Run Calculation Process "
   ]
  },
  {
   "cell_type": "code",
   "execution_count": 35,
   "id": "114197d0-2180-426b-b44f-687f69d990c8",
   "metadata": {},
   "outputs": [
    {
     "name": "stdout",
     "output_type": "stream",
     "text": [
      "['AAY-0053-090418z-KGPI-R01-arinc633.xml', 'AAY-0053-120418z-KGPI-R04-arinc633.xml', 'AAY-0166-101400z-KABE-R01-arinc633.xml', 'AAY-0191-092006z-KABE-R10-arinc633.xml', 'AAY-0191-111200z-KABE-R01-arinc633.xml', 'AAY-0191-122006z-KABE-R03-arinc633.xml', 'AAY-0194-091200z-KABE-R01-arinc633.xml', 'AAY-0194-121200z-KABE-R02-arinc633.xml', 'AAY-0362-091115z-KCVG-R01-arinc633.xml', 'AAY-0362-121115z-KCVG-R02-arinc633.xml', 'AAY-1142-121100z-KPIT-R03-arinc633.xml', 'AAY-1145-112136z-KPIT-R01-arinc633.xml', 'AAY-1401-091310z-KTYS-R03-arinc633.xml', 'AAY-1401-121310z-KTYS-R01-arinc633.xml', 'AAY-1785-101836z-KABE-R01-arinc633.xml', 'AAY-1810-111951z-KABE-R03-arinc633.xml', 'AAY-2748-091100z-KPIT-R01-arinc633.xml']\n",
      "Processing ... ./data/AAY_Test/AAY-0053-090418z-KGPI-R01-arinc633.xml\n"
     ]
    },
    {
     "name": "stderr",
     "output_type": "stream",
     "text": [
      "C:\\Users\\zaki.patel\\AppData\\Local\\Programs\\Python\\Python311\\Lib\\site-packages\\pycontrails\\models\\cocip\\cocip.py:588: UserWarning: Flight trajectory has segment lengths close to or exceeding the 'max_seg_length_m' parameter. Evolved contrail segments may reach their end of life artificially early. Either resample the flight with the 'resample_and_fill' method (recommended), or use a larger 'max_seg_length_m' parameter. Current values: max_seg_length_m=40000.0, max_seg_length_on_trajectory=494430.96997134463\n",
      "  warnings.warn(\n"
     ]
    },
    {
     "name": "stdout",
     "output_type": "stream",
     "text": [
      "Processing ... ./data/AAY_Test/AAY-0053-120418z-KGPI-R04-arinc633.xml\n"
     ]
    },
    {
     "name": "stderr",
     "output_type": "stream",
     "text": [
      "C:\\Users\\zaki.patel\\AppData\\Local\\Programs\\Python\\Python311\\Lib\\site-packages\\pycontrails\\models\\cocip\\cocip.py:588: UserWarning: Flight trajectory has segment lengths close to or exceeding the 'max_seg_length_m' parameter. Evolved contrail segments may reach their end of life artificially early. Either resample the flight with the 'resample_and_fill' method (recommended), or use a larger 'max_seg_length_m' parameter. Current values: max_seg_length_m=40000.0, max_seg_length_on_trajectory=494430.96997134463\n",
      "  warnings.warn(\n",
      "C:\\Users\\zaki.patel\\AppData\\Local\\Programs\\Python\\Python311\\Lib\\site-packages\\pycontrails\\models\\cocip\\wake_vortex.py:158: RuntimeWarning: divide by zero encountered in divide\n",
      "  return (c * aircraft_mass * constants.g) / (wingspan**2 * rho_air * true_airspeed * n_bv)\n",
      "C:\\Users\\zaki.patel\\AppData\\Local\\Programs\\Python\\Python311\\Lib\\site-packages\\pycontrails\\models\\cocip\\cocip.py:840: RuntimeWarning: divide by zero encountered in divide\n",
      "  self._sac_flight.get_data_or_attr(\"fuel_flow\") / self._sac_flight[\"true_airspeed\"]\n",
      "C:\\Users\\zaki.patel\\AppData\\Local\\Programs\\Python\\Python311\\Lib\\site-packages\\pycontrails\\models\\cocip\\contrail_properties.py:317: RuntimeWarning: invalid value encountered in divide\n",
      "  f_surv[is_positive] = iwc_1[is_positive] / iwc[is_positive]\n",
      "C:\\Users\\zaki.patel\\AppData\\Local\\Programs\\Python\\Python311\\Lib\\site-packages\\pycontrails\\models\\cocip\\contrail_properties.py:444: UserWarning: All tau_contrail values are nan. This may be due to waypoints all lying outside of the met interpolation grid. It could indicate an issue with interpolation, or an insufficient met domain.\n",
      "  warnings.warn(\n"
     ]
    },
    {
     "name": "stdout",
     "output_type": "stream",
     "text": [
      "Processing ... ./data/AAY_Test/AAY-0166-101400z-KABE-R01-arinc633.xml\n"
     ]
    },
    {
     "name": "stderr",
     "output_type": "stream",
     "text": [
      "C:\\Users\\zaki.patel\\AppData\\Local\\Programs\\Python\\Python311\\Lib\\site-packages\\pycontrails\\models\\cocip\\cocip.py:588: UserWarning: Flight trajectory has segment lengths close to or exceeding the 'max_seg_length_m' parameter. Evolved contrail segments may reach their end of life artificially early. Either resample the flight with the 'resample_and_fill' method (recommended), or use a larger 'max_seg_length_m' parameter. Current values: max_seg_length_m=40000.0, max_seg_length_on_trajectory=163670.85251008163\n",
      "  warnings.warn(\n"
     ]
    },
    {
     "name": "stdout",
     "output_type": "stream",
     "text": [
      "Processing ... ./data/AAY_Test/AAY-0191-092006z-KABE-R10-arinc633.xml\n"
     ]
    },
    {
     "name": "stderr",
     "output_type": "stream",
     "text": [
      "C:\\Users\\zaki.patel\\AppData\\Local\\Programs\\Python\\Python311\\Lib\\site-packages\\pycontrails\\models\\cocip\\cocip.py:588: UserWarning: Flight trajectory has segment lengths close to or exceeding the 'max_seg_length_m' parameter. Evolved contrail segments may reach their end of life artificially early. Either resample the flight with the 'resample_and_fill' method (recommended), or use a larger 'max_seg_length_m' parameter. Current values: max_seg_length_m=40000.0, max_seg_length_on_trajectory=163670.85251008163\n",
      "  warnings.warn(\n"
     ]
    },
    {
     "name": "stdout",
     "output_type": "stream",
     "text": [
      "Processing ... ./data/AAY_Test/AAY-0191-111200z-KABE-R01-arinc633.xml\n"
     ]
    },
    {
     "name": "stderr",
     "output_type": "stream",
     "text": [
      "C:\\Users\\zaki.patel\\AppData\\Local\\Programs\\Python\\Python311\\Lib\\site-packages\\pycontrails\\models\\cocip\\cocip.py:588: UserWarning: Flight trajectory has segment lengths close to or exceeding the 'max_seg_length_m' parameter. Evolved contrail segments may reach their end of life artificially early. Either resample the flight with the 'resample_and_fill' method (recommended), or use a larger 'max_seg_length_m' parameter. Current values: max_seg_length_m=40000.0, max_seg_length_on_trajectory=163670.85251008163\n",
      "  warnings.warn(\n"
     ]
    },
    {
     "name": "stdout",
     "output_type": "stream",
     "text": [
      "Processing ... ./data/AAY_Test/AAY-0191-122006z-KABE-R03-arinc633.xml\n"
     ]
    },
    {
     "name": "stderr",
     "output_type": "stream",
     "text": [
      "C:\\Users\\zaki.patel\\AppData\\Local\\Programs\\Python\\Python311\\Lib\\site-packages\\pycontrails\\models\\cocip\\cocip.py:588: UserWarning: Flight trajectory has segment lengths close to or exceeding the 'max_seg_length_m' parameter. Evolved contrail segments may reach their end of life artificially early. Either resample the flight with the 'resample_and_fill' method (recommended), or use a larger 'max_seg_length_m' parameter. Current values: max_seg_length_m=40000.0, max_seg_length_on_trajectory=163670.85251008163\n",
      "  warnings.warn(\n"
     ]
    },
    {
     "name": "stdout",
     "output_type": "stream",
     "text": [
      "Processing ... ./data/AAY_Test/AAY-0194-091200z-KABE-R01-arinc633.xml\n"
     ]
    },
    {
     "name": "stderr",
     "output_type": "stream",
     "text": [
      "C:\\Users\\zaki.patel\\AppData\\Local\\Programs\\Python\\Python311\\Lib\\site-packages\\pycontrails\\models\\cocip\\cocip.py:588: UserWarning: Flight trajectory has segment lengths close to or exceeding the 'max_seg_length_m' parameter. Evolved contrail segments may reach their end of life artificially early. Either resample the flight with the 'resample_and_fill' method (recommended), or use a larger 'max_seg_length_m' parameter. Current values: max_seg_length_m=40000.0, max_seg_length_on_trajectory=163670.85251008163\n",
      "  warnings.warn(\n"
     ]
    },
    {
     "name": "stdout",
     "output_type": "stream",
     "text": [
      "Processing ... ./data/AAY_Test/AAY-0194-121200z-KABE-R02-arinc633.xml\n"
     ]
    },
    {
     "name": "stderr",
     "output_type": "stream",
     "text": [
      "C:\\Users\\zaki.patel\\AppData\\Local\\Programs\\Python\\Python311\\Lib\\site-packages\\pycontrails\\models\\cocip\\cocip.py:588: UserWarning: Flight trajectory has segment lengths close to or exceeding the 'max_seg_length_m' parameter. Evolved contrail segments may reach their end of life artificially early. Either resample the flight with the 'resample_and_fill' method (recommended), or use a larger 'max_seg_length_m' parameter. Current values: max_seg_length_m=40000.0, max_seg_length_on_trajectory=163670.85251008163\n",
      "  warnings.warn(\n",
      "C:\\Users\\zaki.patel\\AppData\\Local\\Programs\\Python\\Python311\\Lib\\site-packages\\pycontrails\\models\\cocip\\contrail_properties.py:444: UserWarning: All tau_contrail values are nan. This may be due to waypoints all lying outside of the met interpolation grid. It could indicate an issue with interpolation, or an insufficient met domain.\n",
      "  warnings.warn(\n"
     ]
    },
    {
     "name": "stdout",
     "output_type": "stream",
     "text": [
      "Processing ... ./data/AAY_Test/AAY-0362-091115z-KCVG-R01-arinc633.xml\n"
     ]
    },
    {
     "name": "stderr",
     "output_type": "stream",
     "text": [
      "C:\\Users\\zaki.patel\\AppData\\Local\\Programs\\Python\\Python311\\Lib\\site-packages\\pycontrails\\models\\cocip\\cocip.py:588: UserWarning: Flight trajectory has segment lengths close to or exceeding the 'max_seg_length_m' parameter. Evolved contrail segments may reach their end of life artificially early. Either resample the flight with the 'resample_and_fill' method (recommended), or use a larger 'max_seg_length_m' parameter. Current values: max_seg_length_m=40000.0, max_seg_length_on_trajectory=132226.21216093007\n",
      "  warnings.warn(\n",
      "C:\\Users\\zaki.patel\\AppData\\Local\\Programs\\Python\\Python311\\Lib\\site-packages\\pycontrails\\models\\cocip\\wake_vortex.py:158: RuntimeWarning: divide by zero encountered in divide\n",
      "  return (c * aircraft_mass * constants.g) / (wingspan**2 * rho_air * true_airspeed * n_bv)\n",
      "C:\\Users\\zaki.patel\\AppData\\Local\\Programs\\Python\\Python311\\Lib\\site-packages\\pycontrails\\models\\cocip\\cocip.py:840: RuntimeWarning: divide by zero encountered in divide\n",
      "  self._sac_flight.get_data_or_attr(\"fuel_flow\") / self._sac_flight[\"true_airspeed\"]\n",
      "C:\\Users\\zaki.patel\\AppData\\Local\\Programs\\Python\\Python311\\Lib\\site-packages\\pycontrails\\models\\cocip\\contrail_properties.py:317: RuntimeWarning: invalid value encountered in divide\n",
      "  f_surv[is_positive] = iwc_1[is_positive] / iwc[is_positive]\n"
     ]
    },
    {
     "name": "stdout",
     "output_type": "stream",
     "text": [
      "Processing ... ./data/AAY_Test/AAY-0362-121115z-KCVG-R02-arinc633.xml\n"
     ]
    },
    {
     "name": "stderr",
     "output_type": "stream",
     "text": [
      "C:\\Users\\zaki.patel\\AppData\\Local\\Programs\\Python\\Python311\\Lib\\site-packages\\pycontrails\\models\\cocip\\cocip.py:588: UserWarning: Flight trajectory has segment lengths close to or exceeding the 'max_seg_length_m' parameter. Evolved contrail segments may reach their end of life artificially early. Either resample the flight with the 'resample_and_fill' method (recommended), or use a larger 'max_seg_length_m' parameter. Current values: max_seg_length_m=40000.0, max_seg_length_on_trajectory=132226.21216093007\n",
      "  warnings.warn(\n",
      "C:\\Users\\zaki.patel\\AppData\\Local\\Programs\\Python\\Python311\\Lib\\site-packages\\pycontrails\\models\\cocip\\contrail_properties.py:444: UserWarning: All tau_contrail values are nan. This may be due to waypoints all lying outside of the met interpolation grid. It could indicate an issue with interpolation, or an insufficient met domain.\n",
      "  warnings.warn(\n"
     ]
    },
    {
     "name": "stdout",
     "output_type": "stream",
     "text": [
      "Processing ... ./data/AAY_Test/AAY-1142-121100z-KPIT-R03-arinc633.xml\n"
     ]
    },
    {
     "name": "stderr",
     "output_type": "stream",
     "text": [
      "C:\\Users\\zaki.patel\\AppData\\Local\\Programs\\Python\\Python311\\Lib\\site-packages\\pycontrails\\models\\cocip\\cocip.py:588: UserWarning: Flight trajectory has segment lengths close to or exceeding the 'max_seg_length_m' parameter. Evolved contrail segments may reach their end of life artificially early. Either resample the flight with the 'resample_and_fill' method (recommended), or use a larger 'max_seg_length_m' parameter. Current values: max_seg_length_m=40000.0, max_seg_length_on_trajectory=253201.9537953088\n",
      "  warnings.warn(\n",
      "C:\\Users\\zaki.patel\\AppData\\Local\\Programs\\Python\\Python311\\Lib\\site-packages\\pycontrails\\models\\cocip\\contrail_properties.py:444: UserWarning: All tau_contrail values are nan. This may be due to waypoints all lying outside of the met interpolation grid. It could indicate an issue with interpolation, or an insufficient met domain.\n",
      "  warnings.warn(\n"
     ]
    },
    {
     "name": "stdout",
     "output_type": "stream",
     "text": [
      "Processing ... ./data/AAY_Test/AAY-1145-112136z-KPIT-R01-arinc633.xml\n"
     ]
    },
    {
     "name": "stderr",
     "output_type": "stream",
     "text": [
      "C:\\Users\\zaki.patel\\AppData\\Local\\Programs\\Python\\Python311\\Lib\\site-packages\\pycontrails\\models\\cocip\\cocip.py:588: UserWarning: Flight trajectory has segment lengths close to or exceeding the 'max_seg_length_m' parameter. Evolved contrail segments may reach their end of life artificially early. Either resample the flight with the 'resample_and_fill' method (recommended), or use a larger 'max_seg_length_m' parameter. Current values: max_seg_length_m=40000.0, max_seg_length_on_trajectory=232356.77842273153\n",
      "  warnings.warn(\n",
      "C:\\Users\\zaki.patel\\AppData\\Local\\Programs\\Python\\Python311\\Lib\\site-packages\\pycontrails\\models\\cocip\\contrail_properties.py:444: UserWarning: All tau_contrail values are nan. This may be due to waypoints all lying outside of the met interpolation grid. It could indicate an issue with interpolation, or an insufficient met domain.\n",
      "  warnings.warn(\n"
     ]
    },
    {
     "name": "stdout",
     "output_type": "stream",
     "text": [
      "Processing ... ./data/AAY_Test/AAY-1401-091310z-KTYS-R03-arinc633.xml\n"
     ]
    },
    {
     "name": "stderr",
     "output_type": "stream",
     "text": [
      "C:\\Users\\zaki.patel\\AppData\\Local\\Programs\\Python\\Python311\\Lib\\site-packages\\pycontrails\\models\\cocip\\cocip.py:588: UserWarning: Flight trajectory has segment lengths close to or exceeding the 'max_seg_length_m' parameter. Evolved contrail segments may reach their end of life artificially early. Either resample the flight with the 'resample_and_fill' method (recommended), or use a larger 'max_seg_length_m' parameter. Current values: max_seg_length_m=40000.0, max_seg_length_on_trajectory=188922.19525179142\n",
      "  warnings.warn(\n"
     ]
    },
    {
     "name": "stdout",
     "output_type": "stream",
     "text": [
      "Processing ... ./data/AAY_Test/AAY-1401-121310z-KTYS-R01-arinc633.xml\n"
     ]
    },
    {
     "name": "stderr",
     "output_type": "stream",
     "text": [
      "C:\\Users\\zaki.patel\\AppData\\Local\\Programs\\Python\\Python311\\Lib\\site-packages\\pycontrails\\models\\cocip\\cocip.py:588: UserWarning: Flight trajectory has segment lengths close to or exceeding the 'max_seg_length_m' parameter. Evolved contrail segments may reach their end of life artificially early. Either resample the flight with the 'resample_and_fill' method (recommended), or use a larger 'max_seg_length_m' parameter. Current values: max_seg_length_m=40000.0, max_seg_length_on_trajectory=188922.19525179142\n",
      "  warnings.warn(\n",
      "C:\\Users\\zaki.patel\\AppData\\Local\\Programs\\Python\\Python311\\Lib\\site-packages\\pycontrails\\models\\cocip\\contrail_properties.py:444: UserWarning: All tau_contrail values are nan. This may be due to waypoints all lying outside of the met interpolation grid. It could indicate an issue with interpolation, or an insufficient met domain.\n",
      "  warnings.warn(\n"
     ]
    },
    {
     "name": "stdout",
     "output_type": "stream",
     "text": [
      "Processing ... ./data/AAY_Test/AAY-1785-101836z-KABE-R01-arinc633.xml\n"
     ]
    },
    {
     "name": "stderr",
     "output_type": "stream",
     "text": [
      "C:\\Users\\zaki.patel\\AppData\\Local\\Programs\\Python\\Python311\\Lib\\site-packages\\pycontrails\\models\\cocip\\cocip.py:588: UserWarning: Flight trajectory has segment lengths close to or exceeding the 'max_seg_length_m' parameter. Evolved contrail segments may reach their end of life artificially early. Either resample the flight with the 'resample_and_fill' method (recommended), or use a larger 'max_seg_length_m' parameter. Current values: max_seg_length_m=40000.0, max_seg_length_on_trajectory=163670.85251008163\n",
      "  warnings.warn(\n",
      "C:\\Users\\zaki.patel\\AppData\\Local\\Programs\\Python\\Python311\\Lib\\site-packages\\pycontrails\\models\\cocip\\output\\flight_summary.py:75: RuntimeWarning: Mean of empty slice\n",
      "  return np.nanmean(df_wypt_var[var_name])\n",
      "C:\\Users\\zaki.patel\\AppData\\Local\\Programs\\Python\\Python311\\Lib\\site-packages\\pycontrails\\models\\cocip\\output\\flight_summary.py:75: RuntimeWarning: Mean of empty slice\n",
      "  return np.nanmean(df_wypt_var[var_name])\n",
      "C:\\Users\\zaki.patel\\AppData\\Local\\Programs\\Python\\Python311\\Lib\\site-packages\\pycontrails\\models\\cocip\\output\\flight_summary.py:97: RuntimeWarning: Mean of empty slice\n",
      "  return np.nanmean(df_wypt_age_max[\"age_hours\"])\n"
     ]
    },
    {
     "name": "stdout",
     "output_type": "stream",
     "text": [
      "Something went wrong\n",
      "Processing ... ./data/AAY_Test/AAY-1810-111951z-KABE-R03-arinc633.xml\n"
     ]
    },
    {
     "name": "stderr",
     "output_type": "stream",
     "text": [
      "2023-06-20 18:53:58,650 INFO Welcome to the CDS\n",
      "2023-06-20 18:53:58,652 INFO Sending request to https://cds.climate.copernicus.eu/api/v2/resources/reanalysis-era5-pressure-levels\n",
      "2023-06-20 18:53:58,854 INFO Request is queued\n",
      "2023-06-20 18:54:00,083 INFO Request is running\n",
      "2023-06-20 18:54:07,763 INFO Request is completed\n",
      "2023-06-20 18:54:07,764 INFO Downloading https://download-0019.copernicus-climate.eu/cache-compute-0019/cache/data0/adaptor.mars.internal-1687301644.3047318-1348-6-933e60e1-560d-48f5-94da-ac58ad0e36ff.nc to C:\\Users\\ZAKI~1.PAT\\AppData\\Local\\Temp\\95ffb412090e670de5bb73ebeabb6b902b58f22764b148d9 (95.1M)\n",
      "2023-06-20 18:54:25,662 INFO Download rate 5.3M/s                                                                      \n",
      "2023-06-20 18:54:28,654 INFO Welcome to the CDS\n",
      "2023-06-20 18:54:28,656 INFO Sending request to https://cds.climate.copernicus.eu/api/v2/resources/reanalysis-era5-single-levels\n",
      "2023-06-20 18:54:28,858 INFO Request is queued\n",
      "2023-06-20 18:54:30,087 INFO Request is running\n",
      "2023-06-20 18:54:31,828 INFO Request is completed\n",
      "2023-06-20 18:54:31,831 INFO Downloading https://download-0005-clone.copernicus-climate.eu/cache-compute-0005/cache/data5/adaptor.mars.internal-1687301669.869034-20723-15-f1969fb5-89f0-4482-a923-ff3ec4c01e45.nc to C:\\Users\\ZAKI~1.PAT\\AppData\\Local\\Temp\\d20fd39b410925cbb4d7cf344eb940ff0c8718116c301eab (4M)\n",
      "2023-06-20 18:54:34,185 INFO Download rate 1.7M/s                                                                      \n",
      "C:\\Users\\zaki.patel\\AppData\\Local\\Programs\\Python\\Python311\\Lib\\site-packages\\pycontrails\\models\\cocip\\cocip.py:588: UserWarning: Flight trajectory has segment lengths close to or exceeding the 'max_seg_length_m' parameter. Evolved contrail segments may reach their end of life artificially early. Either resample the flight with the 'resample_and_fill' method (recommended), or use a larger 'max_seg_length_m' parameter. Current values: max_seg_length_m=40000.0, max_seg_length_on_trajectory=265907.22775364824\n",
      "  warnings.warn(\n"
     ]
    },
    {
     "name": "stdout",
     "output_type": "stream",
     "text": [
      "Processing ... ./data/AAY_Test/AAY-2748-091100z-KPIT-R01-arinc633.xml\n"
     ]
    },
    {
     "name": "stderr",
     "output_type": "stream",
     "text": [
      "C:\\Users\\zaki.patel\\AppData\\Local\\Programs\\Python\\Python311\\Lib\\site-packages\\pycontrails\\models\\cocip\\cocip.py:588: UserWarning: Flight trajectory has segment lengths close to or exceeding the 'max_seg_length_m' parameter. Evolved contrail segments may reach their end of life artificially early. Either resample the flight with the 'resample_and_fill' method (recommended), or use a larger 'max_seg_length_m' parameter. Current values: max_seg_length_m=40000.0, max_seg_length_on_trajectory=253201.9537953088\n",
      "  warnings.warn(\n"
     ]
    }
   ],
   "source": [
    "import xml.etree.ElementTree as et \n",
    "import numpy as np\n",
    "import pandas as pd\n",
    "from matplotlib import pyplot as plt\n",
    "from datetime import datetime, timedelta\n",
    "    \n",
    "from pycontrails import Flight, Aircraft\n",
    "from pycontrails.datalib.ecmwf import ERA5\n",
    "from pycontrails.models.cocip import Cocip\n",
    "from pycontrails.models.humidity_scaling import ConstantHumidityScaling\n",
    "        \n",
    "from os import listdir\n",
    "from os.path import isfile, join\n",
    "mypath = './data/AAY_Test'\n",
    "onlyfiles = [f for f in listdir(mypath) if isfile(join(mypath, f))]\n",
    "\n",
    "print(onlyfiles)\n",
    "\n",
    "output_cols = [\"file_name\", \"call_sign\", \"flight_number\", \"flight_origin_date\", \"departure_time\", \"dep_airport_name\",\n",
    "               \"arr_airport_name\", \"greatcircle_distance\", \"flight_time_duration\", \"fms_route_name\", \"aircraft_model\",  \n",
    "               \"aircraft_subtype\",\n",
    "               \"fuel_burn\", \"fuel_burn_src\", \"max_altitude\", \"max_true_airspeed\", \"avg_fuel_flow\",\n",
    "               \"num_waypoints\", \"performance_factor\", \"short_lived_contrails\", \"persistent_contrails\",\n",
    "               \"initial_contrail_length_km\", \"persistent_contrail_length_km\",\n",
    "               \"bc_ei_n\", \"total_contrail_EF\", \"rhi_life_mean\", \"tau_contrail_mean\", \"sdr_mean_w\", \"rsr_mean_w\", \"olr_mean_w\"]\n",
    "\n",
    "output_rows = []\n",
    "\n",
    "for file in onlyfiles:\n",
    "    try: \n",
    "        \n",
    "        file_path = \"./data/AAY_Test/\" + file\n",
    "        flight, call_sign, flight_number, flight_origin_date, dep_airport_name, arr_airport_name, greatcircle_distance, fms_route_name, fuel_burn_src, aircraft_model, performance_factor,aircraft_subtype = get_flight_data(file_path)\n",
    "    \n",
    "        f = flight.dataframe\n",
    "        fuel_burn = f['burn_off'].sum()\n",
    "        avg_fuel_flow = f['fuel_flow'].mean()\n",
    "        max_true_airspeed = f['true_airspeed'].max()\n",
    "        max_altitude = f['altitude'].max()\n",
    "        num_waypoints = len(f)\n",
    "        departure_time = f.loc[0]['time']\n",
    "        arrival_time = f.loc[len(f)-1]['time']\n",
    "        duration_seconds = arrival_time - departure_time\n",
    "        duration_minutes = duration_seconds.total_seconds() / 60\n",
    "    \n",
    "        timebound = (\n",
    "            pd.to_datetime(flight[\"time\"][0]).floor(\"H\"),\n",
    "            pd.to_datetime(flight[\"time\"][-1]).ceil(\"H\"), #+ pd.Timedelta(\"10H\"),\n",
    "        )\n",
    "        era5pl = ERA5(\n",
    "                time=timebound,\n",
    "                variables=Cocip.met_variables + Cocip.optional_met_variables,\n",
    "                pressure_levels=pressure_levels,\n",
    "            )\n",
    "        era5sl = ERA5(time=timebound, variables=Cocip.rad_variables)\n",
    "        met = era5pl.open_metdataset()\n",
    "        rad = era5sl.open_metdataset()\n",
    "    \n",
    "        fl_out, flight_statistics = compute_cocip(flight, met, rad) # pass met and rad ? \n",
    "        #display_results(flight_statistics)\n",
    "        #print(\"---------------------\")\n",
    "    \n",
    "        bc_ei_n = flight_statistics['BC EI_n mean (kg-1)']\n",
    "        total_contrail_EF = flight_statistics['Total contrail EF (J)']\n",
    "        short_lived_contrails = flight_statistics['Short-lived contrails']\n",
    "        initial_contrail_length_km = flight_statistics['Initial contrail length (km)']\n",
    "        persistent_contrails = flight_statistics['Persistent contrails']\n",
    "        persistent_contrail_length_km = flight_statistics['Persistent contrail length (km)']\n",
    "        rhi_life_mean = flight_statistics['RHi lifetime, Mean']\n",
    "        tau_contrail_mean = flight_statistics['Tau contrail, Mean']\n",
    "        sdr_mean_w = flight_statistics['SDR mean (W m-2)']\n",
    "        rsr_mean_w = flight_statistics['RSR mean (W m-2)']\n",
    "        olr_mean_w = flight_statistics['OLR mean (W m-2)']\n",
    "    \n",
    "        output_rows.append({\"flight_number\": flight_number, \n",
    "                     \"call_sign\": call_sign,\n",
    "                     \"flight_origin_date\": flight_origin_date,\n",
    "                     \"dep_airport_name\": dep_airport_name,\n",
    "                     \"arr_airport_name\": arr_airport_name,\n",
    "                     \"departure_time\": departure_time,\n",
    "                     \"flight_time_duration\": duration_minutes,\n",
    "                     \"greatcircle_distance\": greatcircle_distance,\n",
    "                     \"fms_route_name\": fms_route_name,\n",
    "                     \"fuel_burn\": fuel_burn,\n",
    "                     \"fuel_burn_src\": fuel_burn_src,\n",
    "                     \"aircraft_model\": aircraft_model, \n",
    "                     \"aircraft_subtype\": aircraft_subtype,\n",
    "                     \"avg_fuel_flow\": avg_fuel_flow,\n",
    "                     \"max_true_airspeed\": max_true_airspeed,\n",
    "                     \"max_altitude\":  max_altitude,\n",
    "                     \"num_waypoints\": num_waypoints,\n",
    "                     \"performance_factor\": performance_factor,\n",
    "                     \"bc_ei_n\": bc_ei_n,\n",
    "                     \"total_contrail_EF\": total_contrail_EF,\n",
    "                     \"short_lived_contrails\": short_lived_contrails, \n",
    "                     \"initial_contrail_length_km\": initial_contrail_length_km,\n",
    "                     \"persistent_contrails\": persistent_contrails, \n",
    "                     \"persistent_contrail_length_km\": persistent_contrail_length_km, \n",
    "                     \"rhi_life_mean\": rhi_life_mean,\n",
    "                     \"tau_contrail_mean\": tau_contrail_mean, \n",
    "                     \"file_name\": file, \n",
    "                     \"sdr_mean_w\": sdr_mean_w,\n",
    "                     \"rsr_mean_w\": rsr_mean_w,\n",
    "                     \"olr_mean_w\": olr_mean_w,\n",
    "                     })\n",
    "    \n",
    "    except Exception:\n",
    "        print(\"Something went wrong\") \n",
    "        continue \n",
    "        \n",
    "    summary_df = pd.DataFrame(output_rows, columns = output_cols)\n",
    "    \n",
    "# has_contrails_how_many ?"
   ]
  },
  {
   "cell_type": "markdown",
   "id": "d18a227e-63d4-40d3-99fb-7d7d9b7db5cd",
   "metadata": {},
   "source": [
    "## 4. Review Summary"
   ]
  },
  {
   "cell_type": "code",
   "execution_count": 36,
   "id": "124dad53-79bc-47cd-8899-71726727acaa",
   "metadata": {},
   "outputs": [
    {
     "data": {
      "text/html": [
       "<div>\n",
       "<style scoped>\n",
       "    .dataframe tbody tr th:only-of-type {\n",
       "        vertical-align: middle;\n",
       "    }\n",
       "\n",
       "    .dataframe tbody tr th {\n",
       "        vertical-align: top;\n",
       "    }\n",
       "\n",
       "    .dataframe thead th {\n",
       "        text-align: right;\n",
       "    }\n",
       "</style>\n",
       "<table border=\"1\" class=\"dataframe\">\n",
       "  <thead>\n",
       "    <tr style=\"text-align: right;\">\n",
       "      <th></th>\n",
       "      <th>departure_time</th>\n",
       "      <th>flight_time_duration</th>\n",
       "      <th>fuel_burn</th>\n",
       "      <th>fuel_burn_src</th>\n",
       "      <th>max_altitude</th>\n",
       "      <th>max_true_airspeed</th>\n",
       "      <th>avg_fuel_flow</th>\n",
       "      <th>num_waypoints</th>\n",
       "      <th>initial_contrail_length_km</th>\n",
       "      <th>persistent_contrail_length_km</th>\n",
       "      <th>bc_ei_n</th>\n",
       "      <th>total_contrail_EF</th>\n",
       "      <th>rhi_life_mean</th>\n",
       "      <th>tau_contrail_mean</th>\n",
       "      <th>sdr_mean_w</th>\n",
       "      <th>rsr_mean_w</th>\n",
       "      <th>olr_mean_w</th>\n",
       "    </tr>\n",
       "  </thead>\n",
       "  <tbody>\n",
       "    <tr>\n",
       "      <th>count</th>\n",
       "      <td>16</td>\n",
       "      <td>16.000000</td>\n",
       "      <td>16.000000</td>\n",
       "      <td>16.000000</td>\n",
       "      <td>16.000000</td>\n",
       "      <td>16.000000</td>\n",
       "      <td>16.000000</td>\n",
       "      <td>16.000000</td>\n",
       "      <td>16.000000</td>\n",
       "      <td>16.000000</td>\n",
       "      <td>1.600000e+01</td>\n",
       "      <td>1.600000e+01</td>\n",
       "      <td>16.000000</td>\n",
       "      <td>16.000000</td>\n",
       "      <td>16.000000</td>\n",
       "      <td>16.000000</td>\n",
       "      <td>16.000000</td>\n",
       "    </tr>\n",
       "    <tr>\n",
       "      <th>mean</th>\n",
       "      <td>2023-06-11 02:59:18.750000128</td>\n",
       "      <td>112.437500</td>\n",
       "      <td>11274.125000</td>\n",
       "      <td>11326.375000</td>\n",
       "      <td>11167.650715</td>\n",
       "      <td>234.801625</td>\n",
       "      <td>1.467799</td>\n",
       "      <td>25.375000</td>\n",
       "      <td>561.708033</td>\n",
       "      <td>247.227666</td>\n",
       "      <td>1.500000e+15</td>\n",
       "      <td>-1.518575e+10</td>\n",
       "      <td>0.490310</td>\n",
       "      <td>0.134646</td>\n",
       "      <td>222.961020</td>\n",
       "      <td>100.667219</td>\n",
       "      <td>91.173837</td>\n",
       "    </tr>\n",
       "    <tr>\n",
       "      <th>min</th>\n",
       "      <td>2023-06-09 04:49:00</td>\n",
       "      <td>82.000000</td>\n",
       "      <td>8408.000000</td>\n",
       "      <td>8408.000000</td>\n",
       "      <td>10565.568676</td>\n",
       "      <td>231.814000</td>\n",
       "      <td>1.179583</td>\n",
       "      <td>20.000000</td>\n",
       "      <td>0.000000</td>\n",
       "      <td>0.000000</td>\n",
       "      <td>1.500000e+15</td>\n",
       "      <td>-3.512255e+12</td>\n",
       "      <td>0.000000</td>\n",
       "      <td>0.000000</td>\n",
       "      <td>0.000000</td>\n",
       "      <td>0.000000</td>\n",
       "      <td>0.000000</td>\n",
       "    </tr>\n",
       "    <tr>\n",
       "      <th>25%</th>\n",
       "      <td>2023-06-09 13:03:30</td>\n",
       "      <td>108.000000</td>\n",
       "      <td>10729.250000</td>\n",
       "      <td>10795.000000</td>\n",
       "      <td>11109.384711</td>\n",
       "      <td>233.870000</td>\n",
       "      <td>1.369539</td>\n",
       "      <td>22.000000</td>\n",
       "      <td>389.898242</td>\n",
       "      <td>0.000000</td>\n",
       "      <td>1.500000e+15</td>\n",
       "      <td>0.000000e+00</td>\n",
       "      <td>0.000000</td>\n",
       "      <td>0.000000</td>\n",
       "      <td>0.000000</td>\n",
       "      <td>0.000000</td>\n",
       "      <td>0.000000</td>\n",
       "    </tr>\n",
       "    <tr>\n",
       "      <th>50%</th>\n",
       "      <td>2023-06-11 16:09:00</td>\n",
       "      <td>120.500000</td>\n",
       "      <td>11778.000000</td>\n",
       "      <td>11800.500000</td>\n",
       "      <td>11187.072716</td>\n",
       "      <td>234.641000</td>\n",
       "      <td>1.466248</td>\n",
       "      <td>23.500000</td>\n",
       "      <td>620.999538</td>\n",
       "      <td>0.000000</td>\n",
       "      <td>1.500000e+15</td>\n",
       "      <td>0.000000e+00</td>\n",
       "      <td>0.000000</td>\n",
       "      <td>0.000000</td>\n",
       "      <td>0.000000</td>\n",
       "      <td>0.000000</td>\n",
       "      <td>0.000000</td>\n",
       "    </tr>\n",
       "    <tr>\n",
       "      <th>75%</th>\n",
       "      <td>2023-06-12 11:18:15</td>\n",
       "      <td>124.000000</td>\n",
       "      <td>12507.500000</td>\n",
       "      <td>12533.500000</td>\n",
       "      <td>11187.072716</td>\n",
       "      <td>235.926000</td>\n",
       "      <td>1.541969</td>\n",
       "      <td>30.000000</td>\n",
       "      <td>892.990775</td>\n",
       "      <td>494.430970</td>\n",
       "      <td>1.500000e+15</td>\n",
       "      <td>0.000000e+00</td>\n",
       "      <td>1.101091</td>\n",
       "      <td>0.233211</td>\n",
       "      <td>369.234109</td>\n",
       "      <td>185.887311</td>\n",
       "      <td>189.395309</td>\n",
       "    </tr>\n",
       "    <tr>\n",
       "      <th>max</th>\n",
       "      <td>2023-06-12 20:17:00</td>\n",
       "      <td>126.000000</td>\n",
       "      <td>13259.000000</td>\n",
       "      <td>13259.000000</td>\n",
       "      <td>12119.328776</td>\n",
       "      <td>236.954000</td>\n",
       "      <td>1.878297</td>\n",
       "      <td>31.000000</td>\n",
       "      <td>1003.477562</td>\n",
       "      <td>901.755434</td>\n",
       "      <td>1.500000e+15</td>\n",
       "      <td>3.146033e+12</td>\n",
       "      <td>1.230235</td>\n",
       "      <td>0.488527</td>\n",
       "      <td>1031.297558</td>\n",
       "      <td>529.993167</td>\n",
       "      <td>245.123566</td>\n",
       "    </tr>\n",
       "    <tr>\n",
       "      <th>std</th>\n",
       "      <td>NaN</td>\n",
       "      <td>16.661207</td>\n",
       "      <td>1689.578009</td>\n",
       "      <td>1690.501617</td>\n",
       "      <td>367.139188</td>\n",
       "      <td>1.504054</td>\n",
       "      <td>0.174065</td>\n",
       "      <td>4.209117</td>\n",
       "      <td>335.497038</td>\n",
       "      <td>310.204010</td>\n",
       "      <td>0.000000e+00</td>\n",
       "      <td>1.217784e+12</td>\n",
       "      <td>0.576114</td>\n",
       "      <td>0.191756</td>\n",
       "      <td>374.822616</td>\n",
       "      <td>170.618894</td>\n",
       "      <td>108.557930</td>\n",
       "    </tr>\n",
       "  </tbody>\n",
       "</table>\n",
       "</div>"
      ],
      "text/plain": [
       "                      departure_time  flight_time_duration     fuel_burn  \\\n",
       "count                             16             16.000000     16.000000   \n",
       "mean   2023-06-11 02:59:18.750000128            112.437500  11274.125000   \n",
       "min              2023-06-09 04:49:00             82.000000   8408.000000   \n",
       "25%              2023-06-09 13:03:30            108.000000  10729.250000   \n",
       "50%              2023-06-11 16:09:00            120.500000  11778.000000   \n",
       "75%              2023-06-12 11:18:15            124.000000  12507.500000   \n",
       "max              2023-06-12 20:17:00            126.000000  13259.000000   \n",
       "std                              NaN             16.661207   1689.578009   \n",
       "\n",
       "       fuel_burn_src  max_altitude  max_true_airspeed  avg_fuel_flow  \\\n",
       "count      16.000000     16.000000          16.000000      16.000000   \n",
       "mean    11326.375000  11167.650715         234.801625       1.467799   \n",
       "min      8408.000000  10565.568676         231.814000       1.179583   \n",
       "25%     10795.000000  11109.384711         233.870000       1.369539   \n",
       "50%     11800.500000  11187.072716         234.641000       1.466248   \n",
       "75%     12533.500000  11187.072716         235.926000       1.541969   \n",
       "max     13259.000000  12119.328776         236.954000       1.878297   \n",
       "std      1690.501617    367.139188           1.504054       0.174065   \n",
       "\n",
       "       num_waypoints  initial_contrail_length_km  \\\n",
       "count      16.000000                   16.000000   \n",
       "mean       25.375000                  561.708033   \n",
       "min        20.000000                    0.000000   \n",
       "25%        22.000000                  389.898242   \n",
       "50%        23.500000                  620.999538   \n",
       "75%        30.000000                  892.990775   \n",
       "max        31.000000                 1003.477562   \n",
       "std         4.209117                  335.497038   \n",
       "\n",
       "       persistent_contrail_length_km       bc_ei_n  total_contrail_EF  \\\n",
       "count                      16.000000  1.600000e+01       1.600000e+01   \n",
       "mean                      247.227666  1.500000e+15      -1.518575e+10   \n",
       "min                         0.000000  1.500000e+15      -3.512255e+12   \n",
       "25%                         0.000000  1.500000e+15       0.000000e+00   \n",
       "50%                         0.000000  1.500000e+15       0.000000e+00   \n",
       "75%                       494.430970  1.500000e+15       0.000000e+00   \n",
       "max                       901.755434  1.500000e+15       3.146033e+12   \n",
       "std                       310.204010  0.000000e+00       1.217784e+12   \n",
       "\n",
       "       rhi_life_mean  tau_contrail_mean   sdr_mean_w  rsr_mean_w  olr_mean_w  \n",
       "count      16.000000          16.000000    16.000000   16.000000   16.000000  \n",
       "mean        0.490310           0.134646   222.961020  100.667219   91.173837  \n",
       "min         0.000000           0.000000     0.000000    0.000000    0.000000  \n",
       "25%         0.000000           0.000000     0.000000    0.000000    0.000000  \n",
       "50%         0.000000           0.000000     0.000000    0.000000    0.000000  \n",
       "75%         1.101091           0.233211   369.234109  185.887311  189.395309  \n",
       "max         1.230235           0.488527  1031.297558  529.993167  245.123566  \n",
       "std         0.576114           0.191756   374.822616  170.618894  108.557930  "
      ]
     },
     "execution_count": 36,
     "metadata": {},
     "output_type": "execute_result"
    }
   ],
   "source": [
    "summary_df.describe()"
   ]
  },
  {
   "cell_type": "markdown",
   "id": "f4df85a3-8655-4a6c-93ff-0826e25863ce",
   "metadata": {},
   "source": [
    "## 5 Download to CSV"
   ]
  },
  {
   "cell_type": "code",
   "execution_count": 37,
   "id": "a08a0441-ea37-4dc8-90e4-a59938e89344",
   "metadata": {},
   "outputs": [],
   "source": [
    "filename = \"allegiant_test_set_1\""
   ]
  },
  {
   "cell_type": "code",
   "execution_count": 38,
   "id": "e6051e4b-384e-4aed-b8ac-a80808f36b14",
   "metadata": {
    "jupyter": {
     "source_hidden": true
    }
   },
   "outputs": [],
   "source": [
    "import os, time\n",
    "os.makedirs('./output', exist_ok=True)  \n",
    "epoch_time = int(time.time())\n",
    "summary_df.to_csv('./output/' + filename + str(epoch_time) + '.csv')"
   ]
  },
  {
   "cell_type": "code",
   "execution_count": null,
   "id": "571fba5b-a0e2-451d-bc86-f453f4a2c0d9",
   "metadata": {
    "collapsed": true,
    "jupyter": {
     "outputs_hidden": true,
     "source_hidden": true
    }
   },
   "outputs": [],
   "source": []
  },
  {
   "cell_type": "code",
   "execution_count": null,
   "id": "5ac43b1c-6ea8-4f42-ab1e-18a1b3888755",
   "metadata": {
    "collapsed": true,
    "jupyter": {
     "outputs_hidden": true,
     "source_hidden": true
    }
   },
   "outputs": [],
   "source": []
  }
 ],
 "metadata": {
  "kernelspec": {
   "display_name": "Python 3 (ipykernel)",
   "language": "python",
   "name": "python3"
  },
  "language_info": {
   "codemirror_mode": {
    "name": "ipython",
    "version": 3
   },
   "file_extension": ".py",
   "mimetype": "text/x-python",
   "name": "python",
   "nbconvert_exporter": "python",
   "pygments_lexer": "ipython3",
   "version": "3.11.4"
  }
 },
 "nbformat": 4,
 "nbformat_minor": 5
}
